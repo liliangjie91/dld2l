{
 "cells": [
  {
   "cell_type": "code",
   "execution_count": null,
   "metadata": {},
   "outputs": [
    {
     "data": {
      "text/plain": [
       "1994"
      ]
     },
     "execution_count": 10,
     "metadata": {},
     "output_type": "execute_result"
    }
   ],
   "source": [
    "from typing import List, Optional"
   ]
  },
  {
   "cell_type": "markdown",
   "metadata": {},
   "source": [
    "# 堆栈"
   ]
  },
  {
   "cell_type": "code",
   "execution_count": null,
   "metadata": {},
   "outputs": [],
   "source": [
    "# 堆栈\n",
    "# 20 Valid Parentheses\n",
    "def isValid(s: str) -> bool:\n",
    "    keys = [')','}',']']\n",
    "    values = ['(','{','[']\n",
    "    mapdict = dict(zip(keys, values))\n",
    "    if len(s) <= 1 :\n",
    "        return False\n",
    "    que = [s[0]]\n",
    "    for i in s[1:]:\n",
    "        if i in mapdict and len(que)>0 and mapdict[i]==que[-1]:\n",
    "            que.pop(-1)\n",
    "            continue\n",
    "        que.append(i)\n",
    "    return len(que)==0"
   ]
  },
  {
   "cell_type": "markdown",
   "metadata": {},
   "source": [
    "# 查找"
   ]
  },
  {
   "cell_type": "code",
   "execution_count": null,
   "metadata": {},
   "outputs": [],
   "source": [
    "# 287 Find the Duplicate Number\n",
    "# 查找重复数字，长度为n+1的数组，数字范围为1到n。只有一个数是重复的（可能重复多次）所以，数字大小一定不会超过数组长度\n",
    "# 1. 使用set，遍历数组，如果set中已经有了，就是重复的\n",
    "# 2. 二分查找：假设就是1-n的n个数，那使用中间数mid=(1+n)//2来对比整个数组,小于等于mid的数的个数count_less<=mid。\n",
    "# 对于有重复的情况，如果count_less>mid，说明重复的数在1-mid之间，否则在mid+1-n之间\n",
    "# 3. 快慢指针：这一数组，可以看成一个链表的地址，每个数是下一个数的地址，有重复的数，就是有环的链表。用快慢指针\n",
    "def findDuplicate(nums: List[int]) -> int:\n",
    "    if len(nums)<2:return -1\n",
    "    # numset = set()\n",
    "    # for i in nums:\n",
    "    #     if i in numset:\n",
    "    #         return i\n",
    "    #     else:\n",
    "    #         numset.add(i)\n",
    "    # return -1\n",
    "    \n",
    "    # nhead, ntail = 1, len(nums)-1\n",
    "    # mid = (nhead+ntail)//2\n",
    "    # while nhead<ntail:\n",
    "    #     count=sum(1 for i in nums if i <= mid)\n",
    "    #     if count>mid:\n",
    "    #         ntail=mid\n",
    "    #     else:\n",
    "    #         nhead=mid+1\n",
    "    #     mid = (nhead+ntail)//2\n",
    "    # return mid\n",
    "    slow=nums[0]\n",
    "    fast=nums[0]\n",
    "    while 1:\n",
    "        slow = nums[slow]\n",
    "        fast = nums[nums[fast]]\n",
    "        if slow == fast:\n",
    "            break\n",
    "    fast=nums[0]\n",
    "    while fast != slow:\n",
    "        fast=nums[fast]\n",
    "        slow=nums[slow]\n",
    "    return slow\n",
    "\n",
    "# 169 Majority Element\n",
    "# 三种方法\n",
    "# 1. 排序，中间的数一定是众数\n",
    "# 2. 用栈，遇到相同的数入栈，遇到不同的数出栈，最后栈里的数就是众数\n",
    "# 3. 摩尔投票法，遇到相同的数，计数+1，不同的数-1，计数为0时，换下一个数，最后剩下的数就是众数\n",
    "def majorityElement( nums: List[int]) -> int:\n",
    "    # return sorted(nums)[len(nums)//2]\n",
    "    if len(nums)<1:return 0\n",
    "    if len(nums)==1:return nums[0]\n",
    "    # res = [nums[0]]\n",
    "    # for i in nums[1:]:\n",
    "    #     if len(res)==0 or i == res[-1]:\n",
    "    #         res.append(i)\n",
    "    #     else:\n",
    "    #         res.pop(-1)\n",
    "    # return res[0]\n",
    "    res, lenres = nums[0], 1\n",
    "    for i in nums[1:]:\n",
    "        if i == res:\n",
    "            lenres+=1\n",
    "        else:\n",
    "            if lenres == 0:\n",
    "                res,lenres=i,1\n",
    "            else:\n",
    "                lenres-=1\n",
    "    return res"
   ]
  },
  {
   "cell_type": "markdown",
   "metadata": {},
   "source": [
    "# 动态规划"
   ]
  },
  {
   "cell_type": "code",
   "execution_count": null,
   "metadata": {},
   "outputs": [],
   "source": [
    "\n",
    "# 53 Maximum Subarray\n",
    "def maxSubArray( nums) :\n",
    "    if len(nums)<=0: return 0\n",
    "    # res = nums[0]\n",
    "    # for i in range(len(nums)):\n",
    "    #     cur = nums[i]\n",
    "    #     if cur > res:\n",
    "    #         res = cur\n",
    "    #     for j in range(i+1,len(nums)):\n",
    "    #         if j < len(nums):\n",
    "    #             cur+=nums[j]\n",
    "    #             if cur > res:\n",
    "    #                 res = cur\n",
    "    res, cur= nums[0], nums[0]\n",
    "    for i in nums[1:]:\n",
    "        cur = i if i > cur+i else cur + i\n",
    "        res = cur if cur > res else res\n",
    "    return res\n",
    "\n",
    "# 70 Climbing Stairs\n",
    "def climbStairs( n: int) -> int:\n",
    "    # f(n) = f(n-1) + f(n-2)\n",
    "    if n < 1: return 0\n",
    "    if n == 1: return 1\n",
    "    if n == 2: return 2\n",
    "    n1,n2=1,2\n",
    "    for i in range(2,n):\n",
    "        res = n1+n2\n",
    "        n1,n2=n2,res\n",
    "    return res\n",
    "\n",
    "# 121 Best Time to Buy and Sell Stock\n",
    "def maxProfit(prices) -> int:\n",
    "    if len(prices)<2: return 0\n",
    "    res, cur = 0, prices[0]\n",
    "    for i in prices[1:]:\n",
    "        res = i - cur if i - cur > res else res\n",
    "        cur = i if i < cur else cur\n",
    "    return max(0,res)\n",
    "\n",
    "# 122 Best Time to Buy and Sell Stock II\n",
    "# 在尖峰处卖，在低谷时买。\n",
    "# buy：预买价格 sell：预卖价格 预的意思是先记录最优价格，等到某个条件下触发交易\n",
    "# sum就是每次触发后，sell-buy的累加\n",
    "# 触发卖的条件：\n",
    "# 当前价格小于sell预卖价格，触发卖操作，sum做累加同时重置sell，buy\n",
    "# 触发买的条件：\n",
    "# 当前价格大于buy预买价格，触发买操作，这时要把sell和buy设置为当前价格。\n",
    "# 初始化：对于前2个价格，buy是前两个中较小的那个，sell肯定是第二个价格（因为sell一定不能在buy之前）\n",
    "# 初始化保证sell>=buy，且sell不在buy之前\n",
    "def maxProfit(prices) -> int:\n",
    "    if len(prices) < 2: return 0\n",
    "    sum = 0 \n",
    "    buy = prices[0] if prices[0] < prices[1] else prices[1]\n",
    "    sell = prices[1]\n",
    "    for i in prices[2:]:\n",
    "        if sell > i:\n",
    "            sum+=sell-buy\n",
    "            sell,buy=i,i\n",
    "        else:\n",
    "            sell = i\n",
    "        # if buy > i: # 这里可以注释掉，实际上走不到这里，卖了之后，buy=sell=i，之后sell>i的判断也是在做buy>i的判断\n",
    "        #     sell,buy=i,i\n",
    "    return sum+sell-buy\n",
    "\n",
    "# 198 House Robber\n",
    "# 不抢相邻两个\n",
    "def rob(self, nums: List[int]) -> int:\n",
    "    lennums = len(nums)\n",
    "    if lennums <1: return 0\n",
    "    if lennums == 1: return nums[0]\n",
    "    res=[nums[0], max(nums[0],nums[1])]\n",
    "    for i in range(2,lennums):\n",
    "        res.append(max(nums[i]+res[i-2],res[i-1]))\n",
    "    return res[-1]\n",
    "\n",
    "# 213 House Robber II\n",
    "# 环形抢劫，第一个和最后一个不能同时抢\n",
    "def rob2(self, nums: List[int]) -> int:\n",
    "    def subrob(nums):\n",
    "        lennums = len(nums)\n",
    "        if lennums <1: return 0\n",
    "        if lennums == 1: return nums[0]\n",
    "        res=[nums[0], max(nums[0],nums[1])]\n",
    "        for i in range(2,lennums):\n",
    "            res.append(max(nums[i]+res[i-2],res[i-1]))\n",
    "        return res[-1]\n",
    "    if len(nums)==1 : return nums[0]\n",
    "    return max(subrob(nums[1:]), subrob(nums[:-1]))\n",
    "\n",
    "# 337 House Robber III\n",
    "# 二叉树，不能抢相邻的节点\n"
   ]
  },
  {
   "cell_type": "code",
   "execution_count": null,
   "metadata": {},
   "outputs": [
    {
     "name": "stdout",
     "output_type": "stream",
     "text": [
      "['cats and dog', 'cat sand dog']\n"
     ]
    }
   ],
   "source": [
    "# 139 Word Break\n",
    "def wordBreak(s, wordDict) -> bool:\n",
    "    # if len(s) < 1 : return True\n",
    "    # res=False\n",
    "    # for i in range(len(s)):\n",
    "    #     if str(s[:i+1]) in wordDict:\n",
    "    #         tmpres = wordBreak(str(s[i+1:]), wordDict)\n",
    "    #         res = res or tmpres\n",
    "    # return res\n",
    "    if len(wordDict) < 1:return False\n",
    "    if len(s) < 1: return True\n",
    "    maxw=minw=len(wordDict[0])\n",
    "    for i in wordDict[1:]:\n",
    "        if len(i) > maxw: maxw=len(i)\n",
    "        if len(i) < minw: minw=len(i)\n",
    "    \n",
    "    res=[True,str(s[0]) in wordDict]\n",
    "    for i in range(1,len(s)):\n",
    "        tmpres=False\n",
    "        for j in range(min(i,maxw)+1):\n",
    "            cursubs = str(s[i-j:i+1])\n",
    "            curres = (cursubs in wordDict) and res[i-j]\n",
    "            tmpres = tmpres or curres\n",
    "        res.append(tmpres)\n",
    "    return res[-1]\n",
    "\n",
    "# print(wordBreak(\"leetcode\",[\"leet\",\"code\"]))\n",
    "# print(wordBreak(\"aaaaaaaaaaaaaaaaaaaaaa\",[\"a\",\"aa\",\"aaa\"]))\n",
    "\n",
    "\n",
    "# 140 Word Break II\n",
    "# 动态规划问题，最重要的事：1，转移方程 2，初始条件\n",
    "\n",
    "def wordBreak2(s, wordDict) -> bool:\n",
    "    # if len(s) < 1 : return True\n",
    "    # res=False\n",
    "    # for i in range(len(s)):\n",
    "    #     if str(s[:i+1]) in wordDict:\n",
    "    #         tmpres = wordBreak(str(s[i+1:]), wordDict)\n",
    "    #         res = res or tmpres\n",
    "    # return res\n",
    "    if len(wordDict) < 1:return False\n",
    "    if len(s) < 1: return True\n",
    "    maxw=minw=len(wordDict[0])\n",
    "    for i in wordDict[1:]:\n",
    "        if len(i) > maxw: maxw=len(i)\n",
    "        if len(i) < minw: minw=len(i)\n",
    "    \n",
    "    res=[True,str(s[0]) in wordDict]\n",
    "    resstr=[[]] * (len(s)+1)\n",
    "    # resstr[0]=[\"\"]\n",
    "    resstr[1]=[str(s[0])] if str(s[0]) in wordDict else []\n",
    "    for i in range(1,len(s)):\n",
    "        tmpres=False\n",
    "        for j in range(min(i,maxw)+1):\n",
    "            cursubs = str(s[i-j:i+1])\n",
    "            curres = (cursubs in wordDict) and res[i-j]\n",
    "            if curres:\n",
    "                prevres = resstr[i-j]\n",
    "                curresstr = resstr[i+1].copy()\n",
    "                if not prevres:\n",
    "                    curresstr.append(cursubs)\n",
    "                else:\n",
    "                    for pres in prevres:\n",
    "                        curresstr.append(pres+ \" \" + cursubs)\n",
    "                resstr[i+1] = curresstr\n",
    "            tmpres = tmpres or curres\n",
    "        res.append(tmpres)\n",
    "    return resstr[-1]\n",
    "\n",
    "s = \"catsanddog\"\n",
    "wordDict = [\"cat\",\"cats\",\"and\",\"sand\",\"dog\"]\n",
    "# Output: [\"cats and dog\",\"cat sand dog\"]\n",
    "print(wordBreak2(s, wordDict))"
   ]
  },
  {
   "cell_type": "code",
   "execution_count": 78,
   "metadata": {},
   "outputs": [
    {
     "name": "stdout",
     "output_type": "stream",
     "text": [
      "bb\n"
     ]
    }
   ],
   "source": [
    "def findmaxpa(s,mid):\n",
    "    left=right=mid\n",
    "    while left>=0 and right< len(s):\n",
    "        if s[left]==s[right]:\n",
    "            left-=1\n",
    "            right+=1\n",
    "        else:\n",
    "            break\n",
    "    return s[left+1:right]\n",
    "\n",
    "def longestPalindrome( s) -> str:\n",
    "    if len(s) <=1 : return s\n",
    "    res=''\n",
    "    maxlen = 0\n",
    "\n",
    "    def findmaxpa(s,mid):\n",
    "        left=right=mid\n",
    "        while left>=0 and right< len(s):\n",
    "            if s[left]==s[right]:\n",
    "                left-=1\n",
    "                right+=1\n",
    "            else:\n",
    "                break\n",
    "        s1 = s[left+1:right]\n",
    "        left=mid\n",
    "        right=mid+1\n",
    "        while left>=0 and right< len(s):\n",
    "            if s[left]==s[right]:\n",
    "                left-=1\n",
    "                right+=1\n",
    "            else:\n",
    "                break\n",
    "        s2 = s[left+1:right]\n",
    "        return s1 if len(s1)>len(s2) else s2\n",
    "\n",
    "    for i in range(len(s)):\n",
    "        maxpalidrome = findmaxpa(s,i)\n",
    "        if len(maxpalidrome) > len(res):\n",
    "            res = maxpalidrome\n",
    "    \n",
    "    return res\n",
    "\n",
    "# print(findmaxpa(\"babad\",4))\n",
    "print(longestPalindrome(\"cbbd\"))"
   ]
  },
  {
   "cell_type": "code",
   "execution_count": null,
   "metadata": {},
   "outputs": [
    {
     "name": "stdout",
     "output_type": "stream",
     "text": [
      "11\n"
     ]
    }
   ],
   "source": [
    "def minimumTotal( grid) :\n",
    "    if not triangle: return 0\n",
    "    if not triangle[0]: return 0\n",
    "    if len(triangle)==1: return triangle[0][0]\n",
    "    dp=[[triangle[0][0]]]\n",
    "    for i in range(1, len(triangle)):\n",
    "        tmpreslist = []\n",
    "        for j in range(len(triangle[i])):\n",
    "            if j==0:\n",
    "                tmpres = triangle[i][j]+dp[i-1][j]\n",
    "            elif j==len(triangle[i])-1:\n",
    "                tmpres = triangle[i][j]+dp[i-1][j-1]\n",
    "            else:\n",
    "                tmpres = min(triangle[i][j]+dp[i-1][j], triangle[i][j]+dp[i-1][j-1])\n",
    "            tmpreslist.append(tmpres)\n",
    "        dp.append(tmpreslist)\n",
    "    return min(dp[-1])\n",
    "\n",
    "print(minimumTotal([[2],[3,4],[6,5,7],[4,1,8,3]]))"
   ]
  },
  {
   "cell_type": "code",
   "execution_count": null,
   "metadata": {},
   "outputs": [],
   "source": [
    "# 62. Unique Paths\n",
    "def uniquePaths(self, m: int, n: int) -> int:\n",
    "    if m <= 0 or n <= 0: return 0\n",
    "    if m==1 or n == 1: return 1\n",
    "    dp=[[1 for i in range(m)]]\n",
    "    for i in range(1,n):\n",
    "        tmplist=[1]\n",
    "        for j in range(1,m):\n",
    "            tmplist.append(dp[i-1][j]+tmplist[j-1])\n",
    "        dp.append(tmplist)\n",
    "    return dp[-1][-1]\n",
    "\n",
    "# 63. Unique Paths II\n",
    "def uniquePathsWithObstacles(self, obstacleGrid: List[List[int]]) -> int:\n",
    "    if not obstacleGrid: return 0\n",
    "    if not obstacleGrid[0]: return 0\n",
    "    if len(obstacleGrid)==1: return 1 if sum(obstacleGrid[0])==0 else 0\n",
    "    firstrow = [1 if sum(obstacleGrid[0][:i+1]) == 0 else 0 for i in range(len(obstacleGrid[0]))]\n",
    "    dp=[firstrow]\n",
    "    n, m=len(obstacleGrid), len(obstacleGrid[0])\n",
    "    for i in range(1,n):\n",
    "        tmplist=[]\n",
    "        for j in range(m):\n",
    "            if j==0:\n",
    "                if obstacleGrid[i][j] == 1:\n",
    "                    tmplist.append(0)\n",
    "                else:\n",
    "                    tmplist.append(dp[i-1][0])\n",
    "            else:\n",
    "                if obstacleGrid[i][j] == 1:\n",
    "                    tmplist.append(0)\n",
    "                else:\n",
    "                    tmplist.append(dp[i-1][j]+tmplist[j-1])\n",
    "        dp.append(tmplist)\n",
    "    return dp[-1][-1]\n",
    "\n",
    "# 64. Minimum Path Sum\n",
    "def minPathSum(self, grid: List[List[int]]) -> int:\n",
    "    if not grid: return 0\n",
    "    if not grid[0]: return 0\n",
    "    if len(grid)==1: return sum(grid[0])\n",
    "    dp=[[sum(grid[0][:i+1]) for i in range(len(grid[0]))]]\n",
    "    for i in range(1, len(grid)):\n",
    "        tmpreslist = []\n",
    "        for j in range(len(grid[i])):\n",
    "            if j==0:\n",
    "                tmpres = grid[i][j]+dp[i-1][j]\n",
    "            else:\n",
    "                tmpres = min(grid[i][j]+dp[i-1][j], grid[i][j]+tmpreslist[j-1])\n",
    "            tmpreslist.append(tmpres)\n",
    "        dp.append(tmpreslist)\n",
    "    return dp[-1][-1]\n",
    "\n",
    "# 72 Edit Distance\n"
   ]
  },
  {
   "cell_type": "code",
   "execution_count": null,
   "metadata": {},
   "outputs": [
    {
     "name": "stdout",
     "output_type": "stream",
     "text": [
      "True\n"
     ]
    }
   ],
   "source": [
    "# 97. Interleaving String\n",
    "def isInterleave(s1: str, s2: str, s3: str) -> bool:\n",
    "    # if len(s1) + len(s2) != len(s3): return False\n",
    "    if not s1 : \n",
    "        return s2==s3\n",
    "    if not s2 :\n",
    "        return s1==s3\n",
    "    if len(s1) + len(s2) == len(s3):\n",
    "        res1,res2 = False,False\n",
    "        if s1 and s3[0]==s1[0]:\n",
    "            news3,news1 = str(s3[1:]), str(s1[1:])\n",
    "            res1 = isInterleave(news1,s2,news3)\n",
    "        if s2 and s3[0]==s2[0]:\n",
    "            news3,news2 = str(s3[1:]), str(s2[1:])\n",
    "            res2 = isInterleave(s1,news2,news3)\n",
    "        return res1 or res2\n",
    "    else:\n",
    "        return False\n",
    "\n",
    "s1 = \"aabcc\"\n",
    "s2 = \"dbbca\"\n",
    "s3 = \"aadbbcbcac\"\n",
    "print(isInterleave(s1,s2,s3))"
   ]
  },
  {
   "cell_type": "code",
   "execution_count": 83,
   "metadata": {},
   "outputs": [
    {
     "name": "stdout",
     "output_type": "stream",
     "text": [
      "[1, 1, 1, 0, 0, 0]\n"
     ]
    }
   ],
   "source": [
    "obstacleGrid = [[0, 0, 0, 1, 0, 0]]\n",
    "result = [1 if sum(obstacleGrid[0][:i+1]) == 0 else 0 for i in range(len(obstacleGrid[0]))]\n",
    "print(result)"
   ]
  },
  {
   "cell_type": "markdown",
   "metadata": {},
   "source": [
    "# 其他"
   ]
  },
  {
   "cell_type": "code",
   "execution_count": null,
   "metadata": {},
   "outputs": [
    {
     "data": {
      "text/plain": [
       "1994"
      ]
     },
     "execution_count": 24,
     "metadata": {},
     "output_type": "execute_result"
    }
   ],
   "source": [
    "# 01·两数之和 https://leetcode-cn.com/problems/two-sum/\n",
    "def twoSum( nums: List[int], target: int) -> List[int]:\n",
    "    if len(nums)<=2:\n",
    "        return [0,1]\n",
    "    # for i in range(len(nums)):\n",
    "    #     for j in range(i+1,len(nums)):\n",
    "    #         if nums[i]+nums[j]==target:\n",
    "    #             return [i,j]\n",
    "    \n",
    "    tmpdict = dict()\n",
    "    for i in range(len(nums)):\n",
    "        if target - nums[i] in tmpdict:\n",
    "            return [tmpdict[target - nums[i]], i]\n",
    "        else:\n",
    "            tmpdict[nums[i]]=i\n",
    "    return [0,1]\n",
    "\n",
    "# 09 Palindrome Number 回文数字判断\n",
    "def isPalindrome( x: int) -> bool:\n",
    "    if x < 0:\n",
    "        return False\n",
    "    # strx = str(x)\n",
    "    # i,j = 0, len(strx)-1\n",
    "    # while i<=j:\n",
    "    #     if strx[i]!=strx[j]:\n",
    "    #         return False\n",
    "    #     i+=1\n",
    "    #     j-=1\n",
    "    # return True\n",
    "    reversedx = 0\n",
    "    tmp = x\n",
    "    while tmp!=0:\n",
    "        last = tmp % 10\n",
    "        reversedx = reversedx * 10 + last\n",
    "        tmp //= 10\n",
    "    return reversedx == x\n",
    "\n",
    "# 13. Roman to Integer\n",
    "def romanToInt(s: str) -> int:\n",
    "    keys=['I','V','X','L','C','D','M']\n",
    "    values=[1,5,10,50,100,500,1000]\n",
    "    mapdict = dict(zip(keys,values))\n",
    "    i,res = 0, 0\n",
    "\n",
    "    while i < len(s)-1:\n",
    "        curc, nextc = mapdict[s[i]], mapdict[s[i+1]]\n",
    "        if curc < nextc:\n",
    "            res += nextc - curc\n",
    "            i+=1\n",
    "            if i >= len(s)-1:\n",
    "                return res\n",
    "        else:\n",
    "            res+= curc\n",
    "        i+=1\n",
    "    return res+mapdict[s[len(s)-1]]\n",
    "\n",
    "romanToInt(\"MCMXCIV\")"
   ]
  },
  {
   "cell_type": "markdown",
   "metadata": {},
   "source": [
    "# bit操作"
   ]
  },
  {
   "cell_type": "code",
   "execution_count": null,
   "metadata": {},
   "outputs": [],
   "source": [
    "# 136 single number \n",
    "def singleNumber( nums) -> int:\n",
    "    # 异或操作\n",
    "    xor=0\n",
    "    for i in nums:\n",
    "        xor ^= i\n",
    "    return xor\n",
    "\n",
    "# 137 Single Number II\n",
    "def singleNumber2(nums):\n",
    "    result = 0\n",
    "    for bit in range(32):  # 假设整数为 32 位\n",
    "        mask = 1 << bit\n",
    "        count = 0\n",
    "        for num in nums:\n",
    "            if num & mask:\n",
    "                count += 1\n",
    "        # 若该位 1 的总次数不是 3 的倍数，说明结果在该位为 1\n",
    "        if count % 3 != 0:\n",
    "            result |= mask\n",
    "    # 处理负数情况（Python 中整数是无限精度的）\n",
    "    if result >= 2**31:\n",
    "        result -= 2**32\n",
    "    return result\n",
    "\n",
    "# 268. Missing Number\n",
    "def missingNumber(nums: List[int]) -> int:\n",
    "    n = len(nums)\n",
    "    return (n*n+n)//2 - sum(nums)"
   ]
  },
  {
   "cell_type": "markdown",
   "metadata": {},
   "source": [
    "# 链表"
   ]
  },
  {
   "cell_type": "code",
   "execution_count": null,
   "metadata": {},
   "outputs": [],
   "source": [
    "\n",
    "# 21 Merge Two Sorted Lists\n",
    "class ListNode:\n",
    "    def __init__( val=0, next=None):\n",
    "        self.val = val\n",
    "        self.next = next\n",
    "def mergeTwoLists(list1, list2):\n",
    "    res = ListNode(0)\n",
    "    tmp = res\n",
    "    if list1 is None:\n",
    "        return list2\n",
    "    if list2 is None:\n",
    "        return list1\n",
    "    while list1 and list2:\n",
    "        if list1.val > list2.val:\n",
    "            tmp.next = list2\n",
    "            list2 = list2.next\n",
    "        else:\n",
    "            tmp.next = list1\n",
    "            list1 = list1.next\n",
    "        tmp = tmp.next\n",
    "    if list1:\n",
    "        tmp.next = list1\n",
    "    else:\n",
    "        tmp.next = list2\n",
    "    return res.next\n",
    "\n",
    "# 141 Linked List Cycle\n",
    "def hasCycle(head) -> bool:\n",
    "    if head is None or head.next is None:\n",
    "        return False\n",
    "    slow,fast = head, head.next.next\n",
    "    while fast and fast.next and fast.next.next:\n",
    "        if slow.val == fast.val:\n",
    "            return True\n",
    "        slow = slow.next\n",
    "        fast = fast.next.next\n",
    "    return False\n",
    "\n",
    "# 142 Linked List Cycle II\n",
    "# 若有环，第一次相遇时，slow举例入环点的距离和环外长度相同\n",
    "def detectCycle(head) :\n",
    "    if head is None or head.next is None: return None\n",
    "    slow,fast=head,head\n",
    "    while slow and fast and fast.next :\n",
    "        slow,fast=slow.next,fast.next.next\n",
    "        if slow == fast:\n",
    "            # have cycle\n",
    "            while head != slow:\n",
    "                head,slow=head.next,slow.next\n",
    "            return head\n",
    "    return None\n",
    "\n",
    "#206 Reverse Linked List\n",
    "def reverseList( head: Optional[ListNode]) -> Optional[ListNode]:\n",
    "    a,b=None,head\n",
    "    while b:\n",
    "        tmp=b.next\n",
    "        b.next=a\n",
    "        a=b\n",
    "        b=tmp\n",
    "    return a\n"
   ]
  },
  {
   "cell_type": "markdown",
   "metadata": {},
   "source": [
    "# 数组"
   ]
  },
  {
   "cell_type": "code",
   "execution_count": null,
   "metadata": {},
   "outputs": [],
   "source": [
    "\n",
    "#26. Remove Duplicates from Sorted Array\n",
    "def removeDuplicates( nums: List[int]) -> int:\n",
    "    lennums = len(nums)\n",
    "    if lennums<1 : return 0\n",
    "    if lennums==1:return nums[0]\n",
    "    last = nums[-1]\n",
    "    for i in range(lennums-2,-1,-1):\n",
    "        if nums[i]==last:\n",
    "            nums.pop(i)\n",
    "            lennums-=1\n",
    "        else:\n",
    "            last=nums[i]\n",
    "    return lennums\n",
    "\n",
    "# 80. Remove Duplicates from Sorted Array II\n",
    "def removeDuplicates2(nums: List[int]) -> int:\n",
    "    lennums = len(nums)\n",
    "    if lennums<=2 : return lennums\n",
    "    res = 2\n",
    "    for i in range(2,lennums):\n",
    "        if nums[i]!=nums[res-2]:\n",
    "            nums[res]=nums[i]\n",
    "            res+=1\n",
    "    return res"
   ]
  },
  {
   "cell_type": "markdown",
   "metadata": {},
   "source": [
    "# Test"
   ]
  },
  {
   "cell_type": "code",
   "execution_count": 15,
   "metadata": {},
   "outputs": [
    {
     "name": "stdout",
     "output_type": "stream",
     "text": [
      "PAHNAPLSIIGYIR\n"
     ]
    }
   ],
   "source": [
    "def convert(s: str, numRows: int) -> str:\n",
    "    if numRows==1 or len(s)<=numRows:\n",
    "        return s\n",
    "    flag=True\n",
    "    indexlist,j=[],1\n",
    "    for i in range(len(s)):\n",
    "        if flag and j<=numRows:\n",
    "            indexlist.append(j)\n",
    "            j+=1\n",
    "            if j>numRows:\n",
    "                flag=False\n",
    "                j=numRows-1\n",
    "            continue\n",
    "        if not flag and j>=1:\n",
    "            indexlist.append(j)\n",
    "            j-=1\n",
    "            if j<=0:\n",
    "                flag=True\n",
    "                j=2\n",
    "    res=[[]]*numRows\n",
    "    for i in range(len(s)):\n",
    "        tmplist = res[indexlist[i]-1].copy()\n",
    "        tmplist.append(s[i])\n",
    "        res[indexlist[i]-1]=tmplist\n",
    "    ress=''\n",
    "    for s in res:\n",
    "        ress+=''.join(s)\n",
    "    return ress\n",
    "\n",
    "print(convert(\"PAYPALISHIRING\",3))"
   ]
  },
  {
   "cell_type": "code",
   "execution_count": 17,
   "metadata": {},
   "outputs": [
    {
     "data": {
      "text/plain": [
       "True"
      ]
     },
     "execution_count": 17,
     "metadata": {},
     "output_type": "execute_result"
    }
   ],
   "source": [
    "'0'.isnumeric()"
   ]
  },
  {
   "cell_type": "code",
   "execution_count": 18,
   "metadata": {},
   "outputs": [
    {
     "data": {
      "text/plain": [
       "[1, 2, 3]"
      ]
     },
     "execution_count": 18,
     "metadata": {},
     "output_type": "execute_result"
    }
   ],
   "source": [
    "([1,2,3])"
   ]
  },
  {
   "cell_type": "code",
   "execution_count": null,
   "metadata": {},
   "outputs": [],
   "source": []
  }
 ],
 "metadata": {
  "kernelspec": {
   "display_name": "envdl",
   "language": "python",
   "name": "python3"
  },
  "language_info": {
   "codemirror_mode": {
    "name": "ipython",
    "version": 3
   },
   "file_extension": ".py",
   "mimetype": "text/x-python",
   "name": "python",
   "nbconvert_exporter": "python",
   "pygments_lexer": "ipython3",
   "version": "3.10.16"
  }
 },
 "nbformat": 4,
 "nbformat_minor": 2
}

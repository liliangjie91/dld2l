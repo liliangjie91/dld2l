{
 "cells": [
  {
   "cell_type": "code",
   "execution_count": 1,
   "metadata": {},
   "outputs": [],
   "source": [
    "import os,ffmpeg,configparser,logging\n",
    "from openai import OpenAI\n",
    "import logging\n",
    "from logging_config import setup_logging\n",
    "from tqdm import tqdm\n",
    "# 配置日志记录器\n",
    "setup_logging()\n",
    "\n",
    "def get_logger_my(logger_name):\n",
    "    return logging.getLogger(logger_name)"
   ]
  },
  {
   "cell_type": "code",
   "execution_count": 2,
   "metadata": {},
   "outputs": [],
   "source": [
    "def openai_speech2text_my(audio_file_paths,config_file='config.ini',api_prefix='sk'):\n",
    "    logger = get_logger_my('my_logger')\n",
    "    # 读取配置文件\n",
    "    config = configparser.ConfigParser()\n",
    "    config.read(config_file)\n",
    "    api_prefix=api_prefix # 'sk'\n",
    "    client = OpenAI(\n",
    "        api_key=config['openai']['api_key_' + api_prefix],\n",
    "        base_url=config['openai']['api_base_' + api_prefix],\n",
    "    )\n",
    "    # 定义每个片段的大小（以字节为单位）\n",
    "    chunk_size = 1024 * 1024  # 1MB\n",
    "    for audio_file_path in audio_file_paths:\n",
    "        logger.info('processing {}'.format(audio_file_path))\n",
    "        # 读取音频文件并切分\n",
    "        with open(audio_file_path, \"rb\") as audio_file:\n",
    "            audio_data = audio_file.read()\n",
    "        chunks = [audio_data[i:i + chunk_size] for i in range(0, len(audio_data), chunk_size)]\n",
    "\n",
    "        # 存储所有片段的转录结果\n",
    "        transcriptions = []\n",
    "        # 依次发送每个片段的请求\n",
    "        for chunk in tqdm(chunks, desc=f\"Processing {os.path.basename(audio_file_path)}\"):  # 使用 tqdm 包装 chunks\n",
    "            with open('./tmp/temp_chunk.mp3', 'wb') as temp_file:\n",
    "                temp_file.write(chunk)\n",
    "            \n",
    "            with open('./tmp/temp_chunk.mp3', \"rb\") as temp_audio_file:\n",
    "                response = client.audio.transcriptions.create(\n",
    "                    model=\"FunAudioLLM/SenseVoiceSmall\",\n",
    "                    file=temp_audio_file,\n",
    "                    response_format=\"json\"\n",
    "                )\n",
    "            \n",
    "            transcriptions.append(response.text)\n",
    "        file_name, _ = os.path.splitext(audio_file_path)\n",
    "        out_text_file_name = file_name + '.txt'\n",
    "        with open(out_text_file_name, 'w') as temp_file:\n",
    "            for line in transcriptions:\n",
    "                temp_file.write(line)\n",
    "        # logger.info('translated audio file to {}'.format(out_text_file_name))\n",
    "\n",
    "def vedio2mp3_my(folder_path):\n",
    "    # 获取文件夹中的所有文件\n",
    "    logger = get_logger_my('my_logger')\n",
    "    all_files = os.listdir(folder_path)\n",
    "    # 过滤出 MP4 文件\n",
    "    mp4_files = [file for file in all_files if file.lower().endswith('.mp4')]\n",
    "    mp3_files = []\n",
    "    for mp4_file in mp4_files:\n",
    "        file_name, _ = os.path.splitext(mp4_file)\n",
    "        mp3_file_name = folder_path + '/audio_' + file_name + '.mp3'\n",
    "        logger.info('transleting {}'.format(file_name))\n",
    "        ffmpeg.input(folder_path+'/'+mp4_file).output(mp3_file_name, q=0, map='a').run(overwrite_output=True)\n",
    "        logger.info('saved to {}'.format(mp3_file_name))\n",
    "        mp3_files.append(mp3_file_name)\n",
    "    return mp3_files"
   ]
  },
  {
   "cell_type": "code",
   "execution_count": 4,
   "metadata": {},
   "outputs": [
    {
     "name": "stderr",
     "output_type": "stream",
     "text": [
      "2024-12-04 17:23:43,584 - my_logger - INFO - transleting 第1讲-从察觉原生家庭的问题到自我成长的意识\n",
      "2024-12-04 17:24:12,341 - my_logger - INFO - saved to E:/告别原生家庭直通/tmp/audio_第1讲-从察觉原生家庭的问题到自我成长的意识.mp3\n"
     ]
    },
    {
     "data": {
      "text/plain": [
       "['E:/告别原生家庭直通/tmp/audio_第1讲-从察觉原生家庭的问题到自我成长的意识.mp3']"
      ]
     },
     "execution_count": 4,
     "metadata": {},
     "output_type": "execute_result"
    }
   ],
   "source": [
    "folder_path = \"E:/告别原生家庭直通/tmp\"\n",
    "vedio2mp3_my(folder_path)"
   ]
  },
  {
   "cell_type": "code",
   "execution_count": 5,
   "metadata": {},
   "outputs": [
    {
     "data": {
      "text/plain": [
       "('E:/告别原生家庭直通/tmp/audio_第1讲-从察觉原生家庭的问题到自我成长的意识', '.mp3')"
      ]
     },
     "execution_count": 5,
     "metadata": {},
     "output_type": "execute_result"
    }
   ],
   "source": [
    "res='E:/告别原生家庭直通/tmp/audio_第1讲-从察觉原生家庭的问题到自我成长的意识.mp3'\n",
    "os.path.splitext(res)"
   ]
  },
  {
   "cell_type": "code",
   "execution_count": 3,
   "metadata": {},
   "outputs": [
    {
     "name": "stdout",
     "output_type": "stream",
     "text": [
      "2024-12-04 18:02:52 - my_logger - INFO - processing E:/告别原生家庭直通/tmp/audio_第1讲-从察觉原生家庭的问题到自我成长的意识.mp3\n"
     ]
    },
    {
     "name": "stderr",
     "output_type": "stream",
     "text": [
      "Processing E:/告别原生家庭直通/tmp/audio_第1讲-从察觉原生家庭的问题到自我成长的意识.mp3: 100%|██████████| 53/53 [01:09<00:00,  1.31s/it]"
     ]
    },
    {
     "name": "stdout",
     "output_type": "stream",
     "text": [
      "2024-12-04 18:04:02 - my_logger - INFO - translated audio file to E:/告别原生家庭直通/tmp/audio_第1讲-从察觉原生家庭的问题到自我成长的意识.txt\n"
     ]
    },
    {
     "name": "stderr",
     "output_type": "stream",
     "text": [
      "\n"
     ]
    }
   ],
   "source": [
    "audio_file_paths=['E:/告别原生家庭直通/tmp/audio_第1讲-从察觉原生家庭的问题到自我成长的意识.mp3']\n",
    "openai_speech2text_my(audio_file_paths,config_file='config.ini',api_prefix='sk')"
   ]
  }
 ],
 "metadata": {
  "kernelspec": {
   "display_name": "torch(d2l)",
   "language": "python",
   "name": "torch"
  },
  "language_info": {
   "codemirror_mode": {
    "name": "ipython",
    "version": 3
   },
   "file_extension": ".py",
   "mimetype": "text/x-python",
   "name": "python",
   "nbconvert_exporter": "python",
   "pygments_lexer": "ipython3",
   "version": "3.8.8"
  }
 },
 "nbformat": 4,
 "nbformat_minor": 2
}

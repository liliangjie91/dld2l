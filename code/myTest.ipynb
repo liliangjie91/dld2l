{
 "cells": [
  {
   "cell_type": "code",
   "execution_count": 4,
   "metadata": {},
   "outputs": [],
   "source": [
    "def cacullama(num_atten_layer, emb_size, vocab_size, ffn_layers, ffn_hidden, heads, kv_heads):\n",
    "    emb_num = emb_size * vocab_size\n",
    "    sub_atten = 2*emb_size*emb_size + 2*emb_size*emb_size*kv_heads/(1.0*heads) + ffn_layers*ffn_hidden*emb_size\n",
    "    atten_num = num_atten_layer * sub_atten\n",
    "    return emb_num + atten_num\n"
   ]
  },
  {
   "cell_type": "code",
   "execution_count": 5,
   "metadata": {},
   "outputs": [
    {
     "name": "stdout",
     "output_type": "stream",
     "text": [
      "7.503609856\n"
     ]
    }
   ],
   "source": [
    "num_atten_layer=32\n",
    "emb_size=4096\n",
    "vocab_size=128000\n",
    "ffn_layers=3\n",
    "ffn_hidden=14336\n",
    "heads, kv_heads = 32, 8\n",
    "print(cacullama(num_atten_layer, emb_size, vocab_size, ffn_layers, ffn_hidden, heads, kv_heads)/1000000000)"
   ]
  },
  {
   "cell_type": "code",
   "execution_count": 7,
   "metadata": {},
   "outputs": [
    {
     "name": "stdout",
     "output_type": "stream",
     "text": [
      "403.74370304\n"
     ]
    }
   ],
   "source": [
    "num_atten_layer=126\n",
    "emb_size=8192*2\n",
    "vocab_size=128000\n",
    "ffn_layers=3\n",
    "ffn_hidden=53248\n",
    "heads, kv_heads = 128, 8\n",
    "print(cacullama(num_atten_layer, emb_size, vocab_size, ffn_layers, ffn_hidden, heads, kv_heads)/1000000000)"
   ]
  },
  {
   "cell_type": "code",
   "execution_count": null,
   "metadata": {},
   "outputs": [],
   "source": [
    "print('hello')\n",
    "def calculate_flops(num_atten_layer, emb_size, vocab_size, ffn_layers, ffn_hidden, heads, kv_heads, token_count):\n",
    "    # 计算参数量\n",
    "    emb_num = emb_size * vocab_size\n",
    "    sub_atten = 2 * emb_size * emb_size + 2 * emb_size * emb_size * kv_heads / (1.0 * heads) + ffn_layers * ffn_hidden * emb_size\n",
    "    atten_num = num_atten_layer * sub_atten\n",
    "    total_params = emb_num + atten_num\n",
    "    \n",
    "    # 计算前向传播的FLOPs\n",
    "    forward_flops = 2 * total_params * token_count\n",
    "    \n",
    "    # 计算反向传播的FLOPs\n",
    "    backward_flops = 2 * forward_flops\n",
    "    \n",
    "    # 总FLOPs\n",
    "    total_flops = forward_flops + backward_flops\n",
    "    \n",
    "    return total_flops\n",
    "\n",
    "# 示例调用\n",
    "num_atten_layer = 32\n",
    "emb_size = 4096\n",
    "vocab_size = 128000\n",
    "ffn_layers = 3\n",
    "ffn_hidden = 14336\n",
    "heads, kv_heads = 32, 8\n",
    "token_count = 1000  # 假设每个epoch有1000个token\n",
    "\n",
    "flops = calculate_flops(num_atten_layer, emb_size, vocab_size, ffn_layers, ffn_hidden, heads, kv_heads, token_count)\n",
    "print(f\"总FLOPs: {flops/1e12:.2f} T\")\n",
    "\n",
    "\n",
    "\n",
    "\n"
   ]
  }
 ],
 "metadata": {
  "kernelspec": {
   "display_name": "torch",
   "language": "python",
   "name": "python3"
  },
  "language_info": {
   "codemirror_mode": {
    "name": "ipython",
    "version": 3
   },
   "file_extension": ".py",
   "mimetype": "text/x-python",
   "name": "python",
   "nbconvert_exporter": "python",
   "pygments_lexer": "ipython3",
   "version": "3.8.8"
  }
 },
 "nbformat": 4,
 "nbformat_minor": 2
}
